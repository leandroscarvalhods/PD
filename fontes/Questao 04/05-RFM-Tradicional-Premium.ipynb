{
 "metadata": {
  "language_info": {
   "codemirror_mode": {
    "name": "ipython",
    "version": 3
   },
   "file_extension": ".py",
   "mimetype": "text/x-python",
   "name": "python",
   "nbconvert_exporter": "python",
   "pygments_lexer": "ipython3",
   "version": "3.8.3-final"
  },
  "orig_nbformat": 2,
  "kernelspec": {
   "name": "Python 3.8.3 64-bit (conda)",
   "display_name": "Python 3.8.3 64-bit (conda)",
   "metadata": {
    "interpreter": {
     "hash": "b3ba2566441a7c06988d0923437866b63cedc61552a5af99d1f4fb67d367b25f"
    }
   }
  }
 },
 "nbformat": 4,
 "nbformat_minor": 2,
 "cells": [
  {
   "cell_type": "code",
   "execution_count": 4,
   "metadata": {},
   "outputs": [],
   "source": [
    "from sklearn.cluster import KMeans #ML \n",
    "import pandas as pd #dados\n",
    "import numpy as np #manipulacao de vetores\n",
    "from matplotlib import pyplot as plt #plotar os gráficos\n",
    "import pickle\n",
    "\n",
    "# leitura dos dados\n",
    "df = pd.read_csv(r\"C:\\Users\\Leandro\\Dropbox\\00-PD\\teste\\Respostas\\Questao 04\\dados_premium.csv\")\n",
    "#df.head()\n",
    "#df.info()\n"
   ]
  },
  {
   "cell_type": "code",
   "execution_count": 5,
   "metadata": {},
   "outputs": [],
   "source": [
    "# divide o conjunto de dados em partes iguais e associa os dados em 4 grupos distintos para cada atributo\n",
    "t_labels = range(1, 5)\n",
    "t_groups = pd.qcut(df.DiasSemUso.rank(method='first'), q = 4, labels = t_labels)\n",
    "e_labels = range(1, 5)\n",
    "e_groups = pd.qcut(df.TotalSessoes.rank(method='first'), q = 4, labels = e_labels)\n",
    "f_labels = range(1, 5)\n",
    "f_groups = pd.qcut(df.TotalGasto.rank(method='first'), q = 4, labels = f_labels)\n",
    "\n",
    "#print(t_labels)\n",
    "#print(e_labels)\n",
    "#print(f_labels)\n",
    "\n",
    "#print(t_groups)\n",
    "#print(e_groups)\n",
    "#print(f_groups)"
   ]
  },
  {
   "cell_type": "code",
   "execution_count": 6,
   "metadata": {},
   "outputs": [],
   "source": [
    "# cria uma nova coluna no DataFrame para cada valor (R, F e M)\n",
    "df['R'] = t_groups.values\n",
    "df['F'] = e_groups.values\n",
    "df['M'] = f_groups.values\n",
    "\n",
    "# Define os segmentos somdando os valores e estabele um score de classificacao para cada usuario\n",
    "df['RFM_Segment'] = df.apply(lambda x: str(x['R']) + str(x['F']) + str(x['M']), axis = 1)\n",
    "df['RFM_Score'] = df[['R', 'F', 'M']].sum(axis = 1)\n",
    "#df.head()\n",
    "#df.info()"
   ]
  },
  {
   "cell_type": "code",
   "execution_count": 7,
   "metadata": {},
   "outputs": [
    {
     "output_type": "execute_result",
     "data": {
      "text/plain": [
       "   StudentId  DiasSemUso  TotalSessoes  TotalGasto  R  F  M RFM_Segment  \\\n",
       "0   39981208           0             6        29.9  1  1  1         111   \n",
       "1   30437941           0            47        59.8  1  3  2         132   \n",
       "2   49298868          75            49        29.9  4  3  1         431   \n",
       "3   83170423           0            82       209.3  1  4  4         144   \n",
       "4   87293262           0            76       209.3  1  4  4         144   \n",
       "\n",
       "   RFM_Score RFM_Level  \n",
       "0        3.0     Green  \n",
       "1        6.0     Green  \n",
       "2        8.0    Bronze  \n",
       "3        9.0    Silver  \n",
       "4        9.0    Silver  "
      ],
      "text/html": "<div>\n<style scoped>\n    .dataframe tbody tr th:only-of-type {\n        vertical-align: middle;\n    }\n\n    .dataframe tbody tr th {\n        vertical-align: top;\n    }\n\n    .dataframe thead th {\n        text-align: right;\n    }\n</style>\n<table border=\"1\" class=\"dataframe\">\n  <thead>\n    <tr style=\"text-align: right;\">\n      <th></th>\n      <th>StudentId</th>\n      <th>DiasSemUso</th>\n      <th>TotalSessoes</th>\n      <th>TotalGasto</th>\n      <th>R</th>\n      <th>F</th>\n      <th>M</th>\n      <th>RFM_Segment</th>\n      <th>RFM_Score</th>\n      <th>RFM_Level</th>\n    </tr>\n  </thead>\n  <tbody>\n    <tr>\n      <th>0</th>\n      <td>39981208</td>\n      <td>0</td>\n      <td>6</td>\n      <td>29.9</td>\n      <td>1</td>\n      <td>1</td>\n      <td>1</td>\n      <td>111</td>\n      <td>3.0</td>\n      <td>Green</td>\n    </tr>\n    <tr>\n      <th>1</th>\n      <td>30437941</td>\n      <td>0</td>\n      <td>47</td>\n      <td>59.8</td>\n      <td>1</td>\n      <td>3</td>\n      <td>2</td>\n      <td>132</td>\n      <td>6.0</td>\n      <td>Green</td>\n    </tr>\n    <tr>\n      <th>2</th>\n      <td>49298868</td>\n      <td>75</td>\n      <td>49</td>\n      <td>29.9</td>\n      <td>4</td>\n      <td>3</td>\n      <td>1</td>\n      <td>431</td>\n      <td>8.0</td>\n      <td>Bronze</td>\n    </tr>\n    <tr>\n      <th>3</th>\n      <td>83170423</td>\n      <td>0</td>\n      <td>82</td>\n      <td>209.3</td>\n      <td>1</td>\n      <td>4</td>\n      <td>4</td>\n      <td>144</td>\n      <td>9.0</td>\n      <td>Silver</td>\n    </tr>\n    <tr>\n      <th>4</th>\n      <td>87293262</td>\n      <td>0</td>\n      <td>76</td>\n      <td>209.3</td>\n      <td>1</td>\n      <td>4</td>\n      <td>4</td>\n      <td>144</td>\n      <td>9.0</td>\n      <td>Silver</td>\n    </tr>\n  </tbody>\n</table>\n</div>"
     },
     "metadata": {},
     "execution_count": 7
    }
   ],
   "source": [
    "# assign labels from total score\n",
    "categoria_score = ['Green', 'Bronze', 'Silver', 'Gold']\n",
    "grupos_score = pd.qcut(df.RFM_Score, q = 4, labels = categoria_score)\n",
    "df['RFM_Level'] = grupos_score.values\n",
    "df.head()\n",
    "#df.info()"
   ]
  },
  {
   "cell_type": "code",
   "execution_count": 8,
   "metadata": {},
   "outputs": [
    {
     "output_type": "execute_result",
     "data": {
      "text/plain": [
       "           DiasSemUso  TotalSessoes  TotalGasto  Qtd. Clientes\n",
       "RFM_Level                                                     \n",
       "Green            16.8          30.4        38.8            499\n",
       "Bronze           37.8          38.5        86.1            692\n",
       "Silver           48.0          54.2       149.5            299\n",
       "Gold             42.9          73.9       164.3            200"
      ],
      "text/html": "<div>\n<style scoped>\n    .dataframe tbody tr th:only-of-type {\n        vertical-align: middle;\n    }\n\n    .dataframe tbody tr th {\n        vertical-align: top;\n    }\n\n    .dataframe thead th {\n        text-align: right;\n    }\n</style>\n<table border=\"1\" class=\"dataframe\">\n  <thead>\n    <tr style=\"text-align: right;\">\n      <th></th>\n      <th>DiasSemUso</th>\n      <th>TotalSessoes</th>\n      <th>TotalGasto</th>\n      <th>Qtd. Clientes</th>\n    </tr>\n    <tr>\n      <th>RFM_Level</th>\n      <th></th>\n      <th></th>\n      <th></th>\n      <th></th>\n    </tr>\n  </thead>\n  <tbody>\n    <tr>\n      <th>Green</th>\n      <td>16.8</td>\n      <td>30.4</td>\n      <td>38.8</td>\n      <td>499</td>\n    </tr>\n    <tr>\n      <th>Bronze</th>\n      <td>37.8</td>\n      <td>38.5</td>\n      <td>86.1</td>\n      <td>692</td>\n    </tr>\n    <tr>\n      <th>Silver</th>\n      <td>48.0</td>\n      <td>54.2</td>\n      <td>149.5</td>\n      <td>299</td>\n    </tr>\n    <tr>\n      <th>Gold</th>\n      <td>42.9</td>\n      <td>73.9</td>\n      <td>164.3</td>\n      <td>200</td>\n    </tr>\n  </tbody>\n</table>\n</div>"
     },
     "metadata": {},
     "execution_count": 8
    }
   ],
   "source": [
    "# agrupa os clientes nos clusters e calcula a média de cada cluster \n",
    "clusters_agrupados = df.groupby('RFM_Level').agg({\n",
    "    'DiasSemUso' : 'mean',\n",
    "    'TotalSessoes' : 'mean',\n",
    "    'TotalGasto' : 'mean',\n",
    "    'StudentId': 'count'\n",
    "})\n",
    "\n",
    "#renomar a coluna final\n",
    "clusters_agrupados = clusters_agrupados.rename(columns={\"StudentId\": \"Qtd. Clientes\"}) \n",
    "\n",
    "clusters_agrupados.round(1).head()"
   ]
  },
  {
   "cell_type": "code",
   "execution_count": 9,
   "metadata": {},
   "outputs": [],
   "source": [
    "df.to_csv(r'C:\\Users\\Leandro\\Dropbox\\00-PD\\teste\\Respostas\\Questao 04\\resultadoRFMTradicional.csv', index = False)"
   ]
  },
  {
   "cell_type": "code",
   "execution_count": null,
   "metadata": {},
   "outputs": [],
   "source": []
  }
 ]
}